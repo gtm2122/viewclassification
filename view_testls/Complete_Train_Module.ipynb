{
 "cells": [
  {
   "cell_type": "code",
<<<<<<< HEAD
   "execution_count": 2,
=======
   "execution_count": null,
>>>>>>> bd834c477862d36e73cd060dcd84d19091f7f055
   "metadata": {
    "collapsed": true
   },
   "outputs": [],
   "source": [
    "class redirect_output(object):\n",
    "    \"\"\"context manager for reditrecting stdout/err to files\"\"\"\n",
    "\n",
    "\n",
    "    def __init__(self, stdout='', stderr=''):\n",
    "        self.stdout = stdout\n",
    "        self.stderr = stderr\n",
    "\n",
    "    def __enter__(self):\n",
    "        self.sys_stdout = sys.stdout\n",
    "        self.sys_stderr = sys.stderr\n",
    "\n",
    "        if self.stdout:\n",
    "            sys.stdout = open(self.stdout, 'w')\n",
    "        if self.stderr:\n",
    "            if self.stderr == self.stdout:\n",
    "                sys.stderr = sys.stdout\n",
    "            else:\n",
    "                sys.stderr = open(self.stderr, 'w')\n",
    "\n",
    "    def __exit__(self, exc_type, exc_value, traceback):\n",
    "        sys.stdout = self.sys_stdout\n",
    "        sys.stderr = self.sys_stderr"
   ]
  },
  {
   "cell_type": "code",
   "execution_count": null,
   "metadata": {
<<<<<<< HEAD
    "collapsed": false
=======
    "collapsed": true
>>>>>>> bd834c477862d36e73cd060dcd84d19091f7f055
   },
   "outputs": [],
   "source": [
    "import sys\n",
<<<<<<< HEAD
    "#sys.path.append('/data/Gurpreet/CODE/VC2/view_testls/')\n",
    "from Train_Resnet_Sets import Train_Resnet_Sets\n",
    "from IPython.utils import io\n",
    "#with io.capture_output() as captured\n",
    "import datetime\n",
    "now = datetime.datetime.now()    \n",
    "gpunum=[0,1]\n",
    "pretrain=\"True\"\n",
    "mainfolder=\"/storage/VC_12/\"\n",
    "number_of_sets=10\n",
    "number_of_views=5\n",
    "lr_decay=10\n",
    "batch_size=256\n",
    "epochs=100\n",
    "lr=0.001\n",
    "Identifier=str(now.date())+\"_\"+str(now.time())[:8]+\"_\"+str(lr)\n",
    "output_text_file=mainfolder+\"Pretrained_\"+Identifier+\".txt\"\n",
    "with redirect_output(output_text_file):\n",
    "    Train_Resnet_Sets(gpunum,pretrain,mainfolder,number_of_sets,number_of_views,lr,lr_decay,batch_size,epochs,Identifier)"
   ]
  },
  {
   "cell_type": "code",
   "execution_count": null,
   "metadata": {
    "collapsed": true
   },
   "outputs": [],
   "source": [
    "from Read_Results_STDOUT import *\n",
    "Read_Results_STDOUT(mainfolder,output_text_file)\n"
=======
    "sys.path.append('/data/Gurpreet/CODE/VC2/view_testls/')\n",
    "from Train_Resnet_Sets import Train_Resnet_Sets\n",
    "from IPython.utils import io\n",
    "#with io.capture_output() as captured\n",
    "    \n",
    "gpunum=2\n",
    "pretrain=\"False\"\n",
    "mainfolder=\"/data/Gurpreet/RUNS/VC_12/\"\n",
    "number_of_sets=10\n",
    "number_of_views=5\n",
    "lr_decay=10\n",
    "batch_size=50\n",
    "epochs=100\n",
    "lr=0.001\n",
    "Identifier=\"07062017_0600_\"+str(lr)\n",
    "output_text_file=mainfolder+\"Scratch_\"+Identifier+\".txt\"\n",
    "with redirect_output(output_text_file):\n",
    "     Train_Resnet_Sets(gpunum,pretrain,mainfolder,number_of_sets,number_of_views,lr,lr_decay,batch_size,epochs,Identifier)"
>>>>>>> bd834c477862d36e73cd060dcd84d19091f7f055
   ]
  },
  {
   "cell_type": "code",
   "execution_count": null,
   "metadata": {
    "collapsed": true
   },
   "outputs": [],
<<<<<<< HEAD
   "source": [
    "from send_result import *\n",
    "\n",
    "sendit(output_text_file,'blablabla')"
   ]
  },
  {
   "cell_type": "code",
   "execution_count": 9,
   "metadata": {
    "collapsed": false
   },
   "outputs": [
    {
     "name": "stdout",
     "output_type": "stream",
     "text": [
      "2017-07-07\n",
      "14:24:24\n"
     ]
    }
   ],
   "source": [
    "print(now.date())\n",
    "print(str(now.time())[:8])"
   ]
=======
   "source": []
>>>>>>> bd834c477862d36e73cd060dcd84d19091f7f055
  }
 ],
 "metadata": {
  "kernelspec": {
<<<<<<< HEAD
   "display_name": "Python 2",
   "language": "python",
   "name": "python2"
=======
   "display_name": "P27",
   "language": "python",
   "name": "p27"
>>>>>>> bd834c477862d36e73cd060dcd84d19091f7f055
  },
  "language_info": {
   "codemirror_mode": {
    "name": "ipython",
    "version": 2
   },
   "file_extension": ".py",
   "mimetype": "text/x-python",
   "name": "python",
   "nbconvert_exporter": "python",
   "pygments_lexer": "ipython2",
<<<<<<< HEAD
   "version": "2.7.13"
=======
   "version": "2.7.6"
>>>>>>> bd834c477862d36e73cd060dcd84d19091f7f055
  }
 },
 "nbformat": 4,
 "nbformat_minor": 2
}
